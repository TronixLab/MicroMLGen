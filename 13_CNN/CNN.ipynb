{
  "cells": [
    {
      "cell_type": "markdown",
      "metadata": {},
      "source": [
        "# TinyML - Convolutional Neural Networks (CNN)\n",
        "\n",
        "\n",
        "#### Federal University of Rio Grande do Norte\n",
        "\n",
        "#### Name: Thommas Kevin Sales Flores\n"
      ]
    },
    {
      "cell_type": "markdown",
      "metadata": {},
      "source": [
        "## 0. Install the libraries listed in the requirements.txt file"
      ]
    },
    {
      "cell_type": "code",
      "execution_count": 1,
      "metadata": {},
      "outputs": [],
      "source": [
        "#!pip install -r requirements.txt"
      ]
    },
    {
      "cell_type": "markdown",
      "metadata": {},
      "source": [
        "## 1. Importing libraries"
      ]
    },
    {
      "cell_type": "code",
      "execution_count": 32,
      "metadata": {},
      "outputs": [],
      "source": [
        "import numpy as np\n",
        "from sklearn.datasets import load_digits\n",
        "import tensorflow as tf\n",
        "from tensorflow.keras import layers\n",
        "from sklearn.metrics import accuracy_score\n",
        "from sklearn.metrics import confusion_matrix\n",
        "from matplotlib import pyplot as plt\n",
        "import time\n",
        "import seaborn as sns\n",
        "import os\n",
        "from tensorflow.keras.utils import plot_model"
      ]
    },
    {
      "cell_type": "code",
      "execution_count": 30,
      "metadata": {},
      "outputs": [
        {
          "name": "stdout",
          "output_type": "stream",
          "text": [
            "Requirement already satisfied: keras in c:\\python39\\lib\\site-packages (2.15.0)\n"
          ]
        },
        {
          "name": "stderr",
          "output_type": "stream",
          "text": [
            "WARNING: Ignoring invalid distribution -rotobuf (c:\\users\\thommas\\appdata\\roaming\\python\\python39\\site-packages)\n",
            "WARNING: Ignoring invalid distribution -rotobuf (c:\\users\\thommas\\appdata\\roaming\\python\\python39\\site-packages)\n",
            "WARNING: Ignoring invalid distribution -rotobuf (c:\\users\\thommas\\appdata\\roaming\\python\\python39\\site-packages)\n",
            "WARNING: Ignoring invalid distribution -rotobuf (c:\\users\\thommas\\appdata\\roaming\\python\\python39\\site-packages)\n",
            "WARNING: Ignoring invalid distribution -rotobuf (c:\\users\\thommas\\appdata\\roaming\\python\\python39\\site-packages)\n",
            "WARNING: Ignoring invalid distribution -rotobuf (c:\\users\\thommas\\appdata\\roaming\\python\\python39\\site-packages)\n",
            "\n",
            "[notice] A new release of pip is available: 23.3.2 -> 24.0\n",
            "[notice] To update, run: python.exe -m pip install --upgrade pip\n"
          ]
        }
      ],
      "source": [
        "!pip install keras"
      ]
    },
    {
      "cell_type": "code",
      "execution_count": 3,
      "metadata": {},
      "outputs": [
        {
          "data": {
            "text/plain": [
              "'\\nwith open(\\'requirements.txt\\', \\'w\\') as f:\\n    f.write(f\"scikit-learn=={sklearn.__version__}\\n\")\\n    f.write(f\"tensorflow=={tf.__version__}\\n\")\\n    f.write(f\"numpy=={np.__version__}\\n\")\\n    f.write(f\"matplotlib=={matplotlib.__version__}\\n\")\\n'"
            ]
          },
          "execution_count": 3,
          "metadata": {},
          "output_type": "execute_result"
        }
      ],
      "source": [
        "'''\n",
        "with open('requirements.txt', 'w') as f:\n",
        "    f.write(f\"scikit-learn=={sklearn.__version__}\\n\")\n",
        "    f.write(f\"tensorflow=={tf.__version__}\\n\")\n",
        "    f.write(f\"numpy=={np.__version__}\\n\")\n",
        "    f.write(f\"matplotlib=={matplotlib.__version__}\\n\")\n",
        "    f.write(f\"seaborn=={sns.__version__}\\n\")\n",
        "'''"
      ]
    },
    {
      "cell_type": "markdown",
      "metadata": {},
      "source": [
        "## 2. Load Dataset"
      ]
    },
    {
      "cell_type": "markdown",
      "metadata": {},
      "source": [
        "MNIST, short for Modified National Institute of Standards and Technology database, is a widely used dataset in the field of machine learning and computer vision. It consists of a collection of handwritten digits ranging from 0 to 9, each digit being represented as a grayscale image of size 28x28 pixels. The dataset contains a total of 70,000 images, with 60,000 images used for training and 10,000 images used for testing.\n",
        "\n",
        "link: https://www.nist.gov/itl/products-and-services/emnist-dataset"
      ]
    },
    {
      "cell_type": "code",
      "execution_count": 25,
      "metadata": {},
      "outputs": [],
      "source": [
        "def get_data():\n",
        "    np.random.seed(1337)\n",
        "    x_values, y_values = load_digits(return_X_y=True)\n",
        "    x_values /= x_values.max()\n",
        "    # reshape to (8 x 8 x 1)\n",
        "    x_values = x_values.reshape((len(x_values), 8, 8, 1))\n",
        "    # split into train, validation, test\n",
        "    TRAIN_SPLIT = int(0.6 * len(x_values))\n",
        "    TEST_SPLIT = int(0.2 * len(x_values) + TRAIN_SPLIT)\n",
        "    x_train, x_test, x_validate = np.split(x_values, [TRAIN_SPLIT, TEST_SPLIT])\n",
        "    y_train, y_test, y_validate = np.split(y_values, [TRAIN_SPLIT, TEST_SPLIT])\n",
        "\n",
        "    return x_train, x_test, x_validate, y_train, y_test, y_validate"
      ]
    },
    {
      "cell_type": "markdown",
      "metadata": {},
      "source": [
        "## 3. Splitting the data"
      ]
    },
    {
      "cell_type": "code",
      "execution_count": 5,
      "metadata": {},
      "outputs": [],
      "source": [
        "X_train, X_test, X_validate, y_train, y_test, y_validate = get_data()"
      ]
    },
    {
      "cell_type": "markdown",
      "metadata": {},
      "source": [
        "## 4. Exploratory Data Analysis"
      ]
    },
    {
      "cell_type": "code",
      "execution_count": 6,
      "metadata": {},
      "outputs": [
        {
          "data": {
            "image/png": "[encoded data removed]",
            "text/plain": [
              "<Figure size 1440x720 with 4 Axes>"
            ]
          },
          "metadata": {
            "needs_background": "light"
          },
          "output_type": "display_data"
        }
      ],
      "source": [
        "X_train__ = X_train.reshape(X_train.shape[0], 8, 8)\n",
        "\n",
        "fig, axis = plt.subplots(1, 4, figsize=(20, 10))\n",
        "for i, ax in enumerate(axis.flat):\n",
        "    ax.imshow(X_train__[i], cmap='binary')\n",
        "    digit = y_train[i]\n",
        "    ax.set(title = f\"Real Number is {digit}\")"
      ]
    },
    {
      "cell_type": "markdown",
      "metadata": {},
      "source": [
        "## 5. Define the model"
      ]
    },
    {
      "cell_type": "code",
      "execution_count": 7,
      "metadata": {},
      "outputs": [
        {
          "name": "stdout",
          "output_type": "stream",
          "text": [
            "WARNING:tensorflow:From c:\\Python39\\lib\\site-packages\\keras\\src\\backend.py:873: The name tf.get_default_graph is deprecated. Please use tf.compat.v1.get_default_graph instead.\n",
            "\n",
            "WARNING:tensorflow:From c:\\Python39\\lib\\site-packages\\keras\\src\\layers\\pooling\\max_pooling2d.py:161: The name tf.nn.max_pool is deprecated. Please use tf.nn.max_pool2d instead.\n",
            "\n"
          ]
        }
      ],
      "source": [
        "model = tf.keras.Sequential()\n",
        "model.add(layers.Conv2D(8, (3, 3), activation='relu', input_shape=(8, 8, 1)))\n",
        "model.add(layers.MaxPooling2D((2, 2)))\n",
        "model.add(layers.Flatten())\n",
        "model.add(layers.Dense(len(np.unique(y_train))))\n"
      ]
    },
    {
      "cell_type": "code",
      "execution_count": 8,
      "metadata": {},
      "outputs": [
        {
          "name": "stdout",
          "output_type": "stream",
          "text": [
            "Model: \"sequential\"\n",
            "_________________________________________________________________\n",
            " Layer (type)                Output Shape              Param #   \n",
            "=================================================================\n",
            " conv2d (Conv2D)             (None, 6, 6, 8)           80        \n",
            "                                                                 \n",
            " max_pooling2d (MaxPooling2  (None, 3, 3, 8)           0         \n",
            " D)                                                              \n",
            "                                                                 \n",
            " flatten (Flatten)           (None, 72)                0         \n",
            "                                                                 \n",
            " dense (Dense)               (None, 10)                730       \n",
            "                                                                 \n",
            "=================================================================\n",
            "Total params: 810 (3.16 KB)\n",
            "Trainable params: 810 (3.16 KB)\n",
            "Non-trainable params: 0 (0.00 Byte)\n",
            "_________________________________________________________________\n"
          ]
        }
      ],
      "source": [
        "model.summary()"
      ]
    },
    {
      "cell_type": "code",
      "execution_count": 33,
      "metadata": {},
      "outputs": [
        {
          "data": {
            "image/png": "[encoded data removed]",
            "text/plain": [
              "<IPython.core.display.Image object>"
            ]
          },
          "execution_count": 33,
          "metadata": {},
          "output_type": "execute_result"
        }
      ],
      "source": [
        "plot_model(model, to_file='./figures/model.png')"
      ]
    },
    {
      "cell_type": "markdown",
      "metadata": {},
      "source": [
        "## 6. Compile the model"
      ]
    },
    {
      "cell_type": "code",
      "execution_count": 9,
      "metadata": {},
      "outputs": [
        {
          "name": "stdout",
          "output_type": "stream",
          "text": [
            "WARNING:tensorflow:From c:\\Python39\\lib\\site-packages\\keras\\src\\optimizers\\__init__.py:309: The name tf.train.Optimizer is deprecated. Please use tf.compat.v1.train.Optimizer instead.\n",
            "\n"
          ]
        }
      ],
      "source": [
        "model.compile(optimizer='adam', loss=tf.keras.losses.SparseCategoricalCrossentropy(from_logits=True), metrics=['accuracy'])"
      ]
    },
    {
      "cell_type": "markdown",
      "metadata": {},
      "source": [
        "## 7. Training model"
      ]
    },
    {
      "cell_type": "code",
      "execution_count": 10,
      "metadata": {},
      "outputs": [
        {
          "name": "stdout",
          "output_type": "stream",
          "text": [
            "Epoch 1/50\n",
            "WARNING:tensorflow:From c:\\Python39\\lib\\site-packages\\keras\\src\\utils\\tf_utils.py:492: The name tf.ragged.RaggedTensorValue is deprecated. Please use tf.compat.v1.ragged.RaggedTensorValue instead.\n",
            "\n",
            "WARNING:tensorflow:From c:\\Python39\\lib\\site-packages\\keras\\src\\engine\\base_layer_utils.py:384: The name tf.executing_eagerly_outside_functions is deprecated. Please use tf.compat.v1.executing_eagerly_outside_functions instead.\n",
            "\n",
            "68/68 [==============================] - 1s 5ms/step - loss: 2.2896 - accuracy: 0.1503 - val_loss: 2.2164 - val_accuracy: 0.2083\n",
            "Epoch 2/50\n",
            "68/68 [==============================] - 0s 3ms/step - loss: 2.1405 - accuracy: 0.3813 - val_loss: 2.0536 - val_accuracy: 0.5167\n",
            "Epoch 3/50\n",
            "68/68 [==============================] - 0s 3ms/step - loss: 1.9245 - accuracy: 0.6651 - val_loss: 1.7865 - val_accuracy: 0.7722\n",
            "Epoch 4/50\n",
            "68/68 [==============================] - 0s 3ms/step - loss: 1.6127 - accuracy: 0.8237 - val_loss: 1.4602 - val_accuracy: 0.7861\n",
            "Epoch 5/50\n",
            "68/68 [==============================] - 0s 3ms/step - loss: 1.2629 - accuracy: 0.8748 - val_loss: 1.1572 - val_accuracy: 0.8167\n",
            "Epoch 6/50\n",
            "68/68 [==============================] - 0s 2ms/step - loss: 0.9648 - accuracy: 0.8952 - val_loss: 0.9365 - val_accuracy: 0.8250\n",
            "Epoch 7/50\n",
            "68/68 [==============================] - 0s 3ms/step - loss: 0.7465 - accuracy: 0.9304 - val_loss: 0.7861 - val_accuracy: 0.8500\n",
            "Epoch 8/50\n",
            "68/68 [==============================] - 0s 3ms/step - loss: 0.5938 - accuracy: 0.9295 - val_loss: 0.6928 - val_accuracy: 0.8500\n",
            "Epoch 9/50\n",
            "68/68 [==============================] - 0s 2ms/step - loss: 0.4928 - accuracy: 0.9341 - val_loss: 0.6280 - val_accuracy: 0.8472\n",
            "Epoch 10/50\n",
            "68/68 [==============================] - 0s 3ms/step - loss: 0.4199 - accuracy: 0.9481 - val_loss: 0.5811 - val_accuracy: 0.8417\n",
            "Epoch 11/50\n",
            "68/68 [==============================] - 0s 3ms/step - loss: 0.3604 - accuracy: 0.9536 - val_loss: 0.5575 - val_accuracy: 0.8583\n",
            "Epoch 12/50\n",
            "68/68 [==============================] - 0s 3ms/step - loss: 0.3206 - accuracy: 0.9564 - val_loss: 0.5206 - val_accuracy: 0.8639\n",
            "Epoch 13/50\n",
            "68/68 [==============================] - 0s 3ms/step - loss: 0.2854 - accuracy: 0.9601 - val_loss: 0.5039 - val_accuracy: 0.8583\n",
            "Epoch 14/50\n",
            "68/68 [==============================] - 0s 3ms/step - loss: 0.2589 - accuracy: 0.9666 - val_loss: 0.4910 - val_accuracy: 0.8778\n",
            "Epoch 15/50\n",
            "68/68 [==============================] - 0s 3ms/step - loss: 0.2363 - accuracy: 0.9620 - val_loss: 0.4705 - val_accuracy: 0.8722\n",
            "Epoch 16/50\n",
            "68/68 [==============================] - 0s 3ms/step - loss: 0.2164 - accuracy: 0.9675 - val_loss: 0.4668 - val_accuracy: 0.8694\n",
            "Epoch 17/50\n",
            "68/68 [==============================] - 0s 3ms/step - loss: 0.2009 - accuracy: 0.9675 - val_loss: 0.4540 - val_accuracy: 0.8722\n",
            "Epoch 18/50\n",
            "68/68 [==============================] - 0s 3ms/step - loss: 0.1876 - accuracy: 0.9675 - val_loss: 0.4492 - val_accuracy: 0.8722\n",
            "Epoch 19/50\n",
            "68/68 [==============================] - 0s 3ms/step - loss: 0.1746 - accuracy: 0.9703 - val_loss: 0.4438 - val_accuracy: 0.8694\n",
            "Epoch 20/50\n",
            "68/68 [==============================] - 0s 3ms/step - loss: 0.1658 - accuracy: 0.9712 - val_loss: 0.4304 - val_accuracy: 0.8694\n",
            "Epoch 21/50\n",
            "68/68 [==============================] - 0s 2ms/step - loss: 0.1543 - accuracy: 0.9759 - val_loss: 0.4242 - val_accuracy: 0.8722\n",
            "Epoch 22/50\n",
            "68/68 [==============================] - 0s 3ms/step - loss: 0.1472 - accuracy: 0.9722 - val_loss: 0.4153 - val_accuracy: 0.8806\n",
            "Epoch 23/50\n",
            "68/68 [==============================] - 0s 3ms/step - loss: 0.1382 - accuracy: 0.9750 - val_loss: 0.4216 - val_accuracy: 0.8833\n",
            "Epoch 24/50\n",
            "68/68 [==============================] - 0s 2ms/step - loss: 0.1301 - accuracy: 0.9796 - val_loss: 0.4182 - val_accuracy: 0.8861\n",
            "Epoch 25/50\n",
            "68/68 [==============================] - 0s 3ms/step - loss: 0.1240 - accuracy: 0.9805 - val_loss: 0.4073 - val_accuracy: 0.8861\n",
            "Epoch 26/50\n",
            "68/68 [==============================] - 0s 3ms/step - loss: 0.1183 - accuracy: 0.9759 - val_loss: 0.4047 - val_accuracy: 0.8861\n",
            "Epoch 27/50\n",
            "68/68 [==============================] - 0s 2ms/step - loss: 0.1138 - accuracy: 0.9805 - val_loss: 0.4068 - val_accuracy: 0.8806\n",
            "Epoch 28/50\n",
            "68/68 [==============================] - 0s 3ms/step - loss: 0.1081 - accuracy: 0.9787 - val_loss: 0.4017 - val_accuracy: 0.8889\n",
            "Epoch 29/50\n",
            "68/68 [==============================] - 0s 3ms/step - loss: 0.1047 - accuracy: 0.9777 - val_loss: 0.3998 - val_accuracy: 0.8917\n",
            "Epoch 30/50\n",
            "68/68 [==============================] - 0s 3ms/step - loss: 0.0989 - accuracy: 0.9814 - val_loss: 0.3910 - val_accuracy: 0.8917\n",
            "Epoch 31/50\n",
            "68/68 [==============================] - 0s 3ms/step - loss: 0.0968 - accuracy: 0.9833 - val_loss: 0.3954 - val_accuracy: 0.8861\n",
            "Epoch 32/50\n",
            "68/68 [==============================] - 0s 3ms/step - loss: 0.0922 - accuracy: 0.9805 - val_loss: 0.3934 - val_accuracy: 0.8833\n",
            "Epoch 33/50\n",
            "68/68 [==============================] - 0s 3ms/step - loss: 0.0878 - accuracy: 0.9852 - val_loss: 0.3866 - val_accuracy: 0.8944\n",
            "Epoch 34/50\n",
            "68/68 [==============================] - 0s 3ms/step - loss: 0.0844 - accuracy: 0.9833 - val_loss: 0.3917 - val_accuracy: 0.8944\n",
            "Epoch 35/50\n",
            "68/68 [==============================] - 0s 4ms/step - loss: 0.0828 - accuracy: 0.9870 - val_loss: 0.3815 - val_accuracy: 0.8944\n",
            "Epoch 36/50\n",
            "68/68 [==============================] - 0s 3ms/step - loss: 0.0792 - accuracy: 0.9861 - val_loss: 0.3807 - val_accuracy: 0.8944\n",
            "Epoch 37/50\n",
            "68/68 [==============================] - 0s 3ms/step - loss: 0.0749 - accuracy: 0.9879 - val_loss: 0.3777 - val_accuracy: 0.8889\n",
            "Epoch 38/50\n",
            "68/68 [==============================] - 0s 4ms/step - loss: 0.0726 - accuracy: 0.9889 - val_loss: 0.3764 - val_accuracy: 0.8944\n",
            "Epoch 39/50\n",
            "68/68 [==============================] - 0s 4ms/step - loss: 0.0711 - accuracy: 0.9870 - val_loss: 0.3782 - val_accuracy: 0.8889\n",
            "Epoch 40/50\n",
            "68/68 [==============================] - 0s 4ms/step - loss: 0.0677 - accuracy: 0.9898 - val_loss: 0.3788 - val_accuracy: 0.8917\n",
            "Epoch 41/50\n",
            "68/68 [==============================] - 0s 3ms/step - loss: 0.0657 - accuracy: 0.9870 - val_loss: 0.3735 - val_accuracy: 0.8944\n",
            "Epoch 42/50\n",
            "68/68 [==============================] - 0s 3ms/step - loss: 0.0658 - accuracy: 0.9861 - val_loss: 0.3698 - val_accuracy: 0.8944\n",
            "Epoch 43/50\n",
            "68/68 [==============================] - 0s 3ms/step - loss: 0.0613 - accuracy: 0.9917 - val_loss: 0.3726 - val_accuracy: 0.8944\n",
            "Epoch 44/50\n",
            "68/68 [==============================] - 0s 4ms/step - loss: 0.0593 - accuracy: 0.9926 - val_loss: 0.3756 - val_accuracy: 0.8917\n",
            "Epoch 45/50\n",
            "68/68 [==============================] - 0s 4ms/step - loss: 0.0577 - accuracy: 0.9889 - val_loss: 0.3693 - val_accuracy: 0.8944\n",
            "Epoch 46/50\n",
            "68/68 [==============================] - 0s 4ms/step - loss: 0.0563 - accuracy: 0.9935 - val_loss: 0.3750 - val_accuracy: 0.8944\n",
            "Epoch 47/50\n",
            "68/68 [==============================] - 0s 4ms/step - loss: 0.0560 - accuracy: 0.9898 - val_loss: 0.3697 - val_accuracy: 0.8944\n",
            "Epoch 48/50\n",
            "68/68 [==============================] - 0s 3ms/step - loss: 0.0527 - accuracy: 0.9889 - val_loss: 0.3733 - val_accuracy: 0.8944\n",
            "Epoch 49/50\n",
            "68/68 [==============================] - 0s 4ms/step - loss: 0.0511 - accuracy: 0.9935 - val_loss: 0.3734 - val_accuracy: 0.8917\n",
            "Epoch 50/50\n",
            "68/68 [==============================] - 0s 4ms/step - loss: 0.0493 - accuracy: 0.9935 - val_loss: 0.3713 - val_accuracy: 0.8917\n"
          ]
        }
      ],
      "source": [
        "history =  model.fit(X_train, y_train,\n",
        "                    epochs=50,\n",
        "                    batch_size=16,\n",
        "                    validation_data=(X_validate, y_validate))"
      ]
    },
    {
      "cell_type": "code",
      "execution_count": 11,
      "metadata": {},
      "outputs": [],
      "source": [
        "model.save('.\\models\\model.keras')"
      ]
    },
    {
      "cell_type": "code",
      "execution_count": 12,
      "metadata": {},
      "outputs": [
        {
          "data": {
            "image/png": "[encoded data removed]",
            "text/plain": [
              "<Figure size 432x288 with 1 Axes>"
            ]
          },
          "metadata": {
            "needs_background": "light"
          },
          "output_type": "display_data"
        }
      ],
      "source": [
        "loss = history.history['loss']\n",
        "val_loss = history.history['val_loss']\n",
        "epochs = range(1, len(loss) + 1)\n",
        "plt.plot(epochs, loss, 'r.', label='Training loss')\n",
        "plt.plot(epochs, val_loss, 'y', label='Validation loss')\n",
        "plt.title('Training and validation loss')\n",
        "plt.xlabel('Epochs')\n",
        "plt.ylabel('Loss')\n",
        "plt.grid()\n",
        "plt.legend()\n",
        "plt.savefig('.\\\\figures\\\\history_traing.png', dpi=300, bbox_inches='tight')\n",
        "plt.show()"
      ]
    },
    {
      "cell_type": "markdown",
      "metadata": {},
      "source": [
        "## 8. Model Evaluation"
      ]
    },
    {
      "cell_type": "markdown",
      "metadata": {},
      "source": [
        "### 8.1 Test Data"
      ]
    },
    {
      "cell_type": "code",
      "execution_count": 13,
      "metadata": {},
      "outputs": [],
      "source": [
        "def test_model(model, x_test, y_test):\n",
        "    x_test = (x_test / x_test.max()).reshape((len(x_test), 8, 8, 1))\n",
        "    y_pred = model.predict(x_test).argmax(axis=1)\n",
        "    print('ACCURACY', ((y_pred == y_test).sum() / len(y_test))*100, \"%\")"
      ]
    },
    {
      "cell_type": "code",
      "execution_count": 14,
      "metadata": {},
      "outputs": [
        {
          "name": "stdout",
          "output_type": "stream",
          "text": [
            "12/12 [==============================] - 0s 2ms/step\n",
            "ACCURACY 97.49303621169916 %\n"
          ]
        }
      ],
      "source": [
        "test_model(model, X_test, y_test)"
      ]
    },
    {
      "cell_type": "markdown",
      "metadata": {},
      "source": [
        "### 8.2 Confusion matrix"
      ]
    },
    {
      "cell_type": "code",
      "execution_count": 15,
      "metadata": {},
      "outputs": [
        {
          "name": "stdout",
          "output_type": "stream",
          "text": [
            "12/12 [==============================] - 0s 2ms/step\n"
          ]
        },
        {
          "data": {
            "image/png": "[encoded data removed]",
            "text/plain": [
              "<Figure size 720x720 with 1 Axes>"
            ]
          },
          "metadata": {
            "needs_background": "light"
          },
          "output_type": "display_data"
        }
      ],
      "source": [
        "fig = plt.figure(figsize=(10, 10)) # Set Figure\n",
        "\n",
        "y_pred = model.predict(X_test) # Predict class probabilities as 2 => [0.1, 0, 0.9, 0, 0, 0, 0, 0, 0, 0]\n",
        "Y_pred = np.argmax(y_pred, 1) # Decode Predicted labels\n",
        "mat = confusion_matrix(y_test, Y_pred) # Confusion matrix\n",
        "\n",
        "# Plot Confusion matrix\n",
        "sns.heatmap(mat.T, square=True, annot=True, cbar=False, cmap=plt.cm.Blues, fmt='.0f', \n",
        "            xticklabels=np.unique(y_test), yticklabels=np.unique(y_test), \n",
        "            annot_kws={\"fontsize\": 14}, linewidths=1, linecolor='white')\n",
        "\n",
        "plt.xlabel('Predicted Values', fontsize=14)\n",
        "plt.ylabel('True Values', fontsize=14)\n",
        "plt.xticks(fontsize=14)\n",
        "plt.yticks(fontsize=14)\n",
        "plt.savefig('.\\\\figures\\\\confusion_matrix.png', dpi=300, bbox_inches='tight')\n",
        "plt.show()"
      ]
    },
    {
      "cell_type": "markdown",
      "metadata": {},
      "source": [
        " ### 8.3 Prediction validation results"
      ]
    },
    {
      "cell_type": "code",
      "execution_count": 16,
      "metadata": {},
      "outputs": [
        {
          "name": "stdout",
          "output_type": "stream",
          "text": [
            "12/12 [==============================] - 0s 1ms/step\n"
          ]
        },
        {
          "data": {
            "image/png": "[encoded data removed]",
            "text/plain": [
              "<Figure size 864x1008 with 16 Axes>"
            ]
          },
          "metadata": {
            "needs_background": "light"
          },
          "output_type": "display_data"
        }
      ],
      "source": [
        "y_pred = model.predict(X_test)\n",
        "X_test__ = X_test\n",
        "\n",
        "fig, axis = plt.subplots(4, 4, figsize=(12, 14))\n",
        "for i, ax in enumerate(axis.flat):\n",
        "    ax.imshow(X_test__[i], cmap='binary')\n",
        "    ax.set(title = f\"Real Number is {y_test[i]}\\nPredict Number is {y_pred[i].argmax()}\")"
      ]
    },
    {
      "cell_type": "markdown",
      "metadata": {},
      "source": [
        "## 9. Obtaining the model to be implemented in the microcontroller"
      ]
    },
    {
      "cell_type": "markdown",
      "metadata": {},
      "source": [
        "### 9.1 Convert some hex value into an array for C programming"
      ]
    },
    {
      "cell_type": "code",
      "execution_count": 17,
      "metadata": {},
      "outputs": [],
      "source": [
        "# Function: Convert some hex value into an array for C programming\n",
        "def hex_to_c_array(hex_data, var_name):\n",
        "\n",
        "  c_str = ''\n",
        "\n",
        "  # Create header guard\n",
        "  c_str += '#ifdef __has_attribute\\n'\n",
        "  c_str += '#define HAVE_ATTRIBUTE(x) __has_attribute(x)\\n'\n",
        "  c_str += '#else\\n'\n",
        "  c_str += '#define HAVE_ATTRIBUTE(x) 0\\n'\n",
        "  c_str += '#endif\\n'\n",
        "  c_str += '#if HAVE_ATTRIBUTE(aligned) || (defined(__GNUC__) && !defined(__clang__))\\n'\n",
        "  c_str += '#define DATA_ALIGN_ATTRIBUTE __attribute__((aligned(4)))\\n'\n",
        "  c_str += '#else\\n'\n",
        "  c_str += '#define DATA_ALIGN_ATTRIBUTE\\n'\n",
        "  c_str += '#endif\\n\\n'\n",
        "\n",
        "  # Declare C variable\n",
        "  c_str += 'const unsigned char ' + var_name + '[]  DATA_ALIGN_ATTRIBUTE = {'\n",
        "  hex_array = []\n",
        "  for i, val in enumerate(hex_data) :\n",
        "\n",
        "    # Construct string from hex\n",
        "    hex_str = format(val, '#04x')\n",
        "\n",
        "    # Add formatting so each line stays within 80 characters\n",
        "    if (i + 1) < len(hex_data):\n",
        "      hex_str += ','\n",
        "    if (i + 1) % 12 == 0:\n",
        "      hex_str += '\\n '\n",
        "    hex_array.append(hex_str)\n",
        "\n",
        "  # Add closing brace\n",
        "  c_str += '\\n ' + format(' '.join(hex_array)) + '\\n};\\n\\n'\n",
        "\n",
        "  # Close out header guard\n",
        "  c_str += 'const int ' + var_name + '_len = ' + str(len(hex_data)) + ';\\n'\n",
        "\n",
        "  return c_str"
      ]
    },
    {
      "cell_type": "markdown",
      "metadata": {},
      "source": [
        "### 9.2 Convert o model to Float32 and Int8"
      ]
    },
    {
      "cell_type": "code",
      "execution_count": 18,
      "metadata": {},
      "outputs": [],
      "source": [
        "def representative_dataset():\n",
        "    for i in range(len(X_train)):\n",
        "        input_data = np.array([X_train[i]], dtype=np.float32)\n",
        "        yield [input_data]\n",
        "\n",
        "\n",
        "\n",
        "def converter_quantization_model(model, model_name):\n",
        "\n",
        "    # Convert o model to float32\n",
        "    converter_float32 = tf.lite.TFLiteConverter.from_keras_model(model)\n",
        "    converter_float32.optimizations = [tf.lite.Optimize.DEFAULT]\n",
        "    converter_float32.target_spec.supported_types = [tf.float32]\n",
        "    converter_float32._experimental_lower_tensor_list_ops = False\n",
        "    converter_float32.supported_ops = [tf.lite.OpsSet.TFLITE_BUILTINS, tf.lite.OpsSet.SELECT_TF_OPS]\n",
        "    converter_float32.representative_dataset = representative_dataset\n",
        "    tflite_model_float32 = converter_float32.convert()\n",
        "    print(tflite_model_float32)\n",
        "    with open(model_name+'_quant_float32' + '.h', 'w') as file:\n",
        "        file.write(hex_to_c_array(tflite_model_float32, model_name+'_quant_float32'))\n",
        "    with open(model_name+'_quant_float32.tflite', 'wb') as f:\n",
        "        f.write(tflite_model_float32)\n",
        "    size_model_tflite_float32 = os.path.getsize(model_name+'_quant_float32.tflite')\n",
        "    print(model_name+f'_quant_float32.tflite: {size_model_tflite_float32} Bytes')\n",
        "\n",
        "\n",
        "    # Convert o model to Int8\n",
        "    converter_int8 = tf.lite.TFLiteConverter.from_keras_model(model)\n",
        "    converter_int8.optimizations = [tf.lite.Optimize.DEFAULT]\n",
        "    converter_int8.target_spec.supported_types = [tf.int8]\n",
        "    #converter_int8._experimental_lower_tensor_list_ops = False\n",
        "    converter_int8.representative_dataset = representative_dataset\n",
        "    converter_int8.target_spec.supported_ops = [\n",
        "        tf.lite.OpsSet.TFLITE_BUILTINS_INT8,\n",
        "        tf.lite.OpsSet.SELECT_TF_OPS,\n",
        "    ]\n",
        "    converter_int8.target_spec.supported_ops = [tf.lite.OpsSet.TFLITE_BUILTINS]\n",
        "    converter_int8.target_spec.supported_ops = [tf.lite.OpsSet.TFLITE_BUILTINS_INT8]\n",
        "    converter_int8.experimental_new_converter = True\n",
        "    converter_int8.experimental_new_quantizer = True\n",
        "    converter_int8.experimental_new_calibrator = True\n",
        "    tflite_model_int8 = converter_int8.convert()\n",
        "    with open(model_name+'_quant_int8' + '.h', 'w') as file:\n",
        "        file.write(hex_to_c_array(tflite_model_int8, model_name+'_quant_int8'))\n",
        "    with open(model_name+'_quant_int8.tflite', 'wb') as f:\n",
        "        f.write(tflite_model_int8)\n",
        "    size_model_tflite_int8 = os.path.getsize(model_name+'_quant_int8.tflite')\n",
        "    print(model_name+f'_quant_int8.tflite: {size_model_tflite_int8} Bytes')\n",
        "\n",
        "    return None"
      ]
    },
    {
      "cell_type": "code",
      "execution_count": 19,
      "metadata": {},
      "outputs": [
        {
          "name": "stdout",
          "output_type": "stream",
          "text": [
            "INFO:tensorflow:Assets written to: C:\\Users\\Thommas\\AppData\\Local\\Temp\\tmp31k69j2j\\assets\n"
          ]
        },
        {
          "name": "stderr",
          "output_type": "stream",
          "text": [
            "INFO:tensorflow:Assets written to: C:\\Users\\Thommas\\AppData\\Local\\Temp\\tmp31k69j2j\\assets\n"
          ]
        },
        {
          "name": "stdout",
          "output_type": "stream",
          "text": [
            "b'\\x1c\\x00\\x00\\x00TFL3\\x14\\x00 \\x00\\x1c\\x00\\x18\\x00\\x14\\x00\\x10\\x00\\x0c\\x00\\x00\\x00\\x08\\x00\\x04\\x00\\x14\\x00\\x00\\x00\\x1c\\x00\\x00\\x00\\x88\\x00\\x00\\x00\\xe0\\x00\\x00\\x00\\x9c\\x0e\\x00\\x00\\xac\\x0e\\x00\\x00l\\x14\\x00\\x00\\x03\\x00\\x00\\x00\\x01\\x00\\x00\\x00\\x04\\x00\\x00\\x00\\xe2\\xf0\\xff\\xff\\x0c\\x00\\x00\\x00\\x1c\\x00\\x00\\x008\\x00\\x00\\x00\\x0f\\x00\\x00\\x00serving_default\\x00\\x01\\x00\\x00\\x00\\x04\\x00\\x00\\x00\\x94\\xff\\xff\\xff\\t\\x00\\x00\\x00\\x04\\x00\\x00\\x00\\x05\\x00\\x00\\x00dense\\x00\\x00\\x00\\x01\\x00\\x00\\x00\\x04\\x00\\x00\\x00\\x02\\xf2\\xff\\xff\\x04\\x00\\x00\\x00\\x0c\\x00\\x00\\x00conv2d_input\\x00\\x00\\x00\\x00\\x02\\x00\\x00\\x004\\x00\\x00\\x00\\x04\\x00\\x00\\x00\\xdc\\xff\\xff\\xff\\x0c\\x00\\x00\\x00\\x04\\x00\\x00\\x00\\x13\\x00\\x00\\x00CONVERSION_METADATA\\x00\\x08\\x00\\x0c\\x00\\x08\\x00\\x04\\x00\\x08\\x00\\x00\\x00\\x0b\\x00\\x00\\x00\\x04\\x00\\x00\\x00\\x13\\x00\\x00\\x00min_runtime_version\\x00\\r\\x00\\x00\\x00\\xb8\\r\\x00\\x00\\xb0\\r\\x00\\x00\\x80\\r\\x00\\x00H\\x0c\\x00\\x00\\x10\\x0c\\x00\\x00\\xf8\\x0b\\x00\\x00\\xa8\\x00\\x00\\x00\\xa0\\x00\\x00\\x00\\x98\\x00\\x00\\x00\\x90\\x00\\x00\\x00\\x88\\x00\\x00\\x00h\\x00\\x00\\x00\\x04\\x00\\x00\\x00\\xb2\\xf2\\xff\\xff\\x04\\x00\\x00\\x00T\\x00\\x00\\x00\\x0c\\x00\\x00\\x00\\x08\\x00\\x0e\\x00\\x08\\x00\\x04\\x00\\x08\\x00\\x00\\x00\\x10\\x00\\x00\\x00$\\x00\\x00\\x00\\x00\\x00\\x06\\x00\\x08\\x00\\x04\\x00\\x06\\x00\\x00\\x00\\x04\\x00\\x00\\x00\\x00\\x00\\x00\\x00\\x00\\x00\\n\\x00\\x10\\x00\\x0c\\x00\\x08\\x00\\x04\\x00\\n\\x00\\x00\\x00\\x02\\x00\\x00\\x00\\x02\\x00\\x00\\x00\\x04\\x00\\x00\\x00\\x06\\x00\\x00\\x002.15.0\\x00\\x00\\x12\\xf3\\xff\\xff\\x04\\x00\\x00\\x00\\x10\\x00\\x00\\x001.5.0\\x00\\x00\\x00\\x00\\x00\\x00\\x00\\x00\\x00\\x00\\x00\\\\\\xed\\xff\\xff`\\xed\\xff\\xffd\\xed\\xff\\xffh\\xed\\xff\\xff>\\xf3\\xff\\xff\\x04\\x00\\x00\\x00@\\x0b\\x00\\x00v6\\xd2\\xbd5\\xb9\\r>\\xf2j\\xe0=\\xe9 M\\xbf|[\\x0f>\\xd1yt<\\x1bzu\\xbd\\xf5\\xcd\\xd8<S\\x97\\xeb>\\x95\\xc6\\x9c<\\xb9\\x86\\xa0\\xbe`V\\x16?\\x06R,\\xbf\\xaf\\xaa\\xda>\\x07\\xfb\\x88\\xbd\\xe7\\x86\\xb4<C\\xf6\\xd7\\xbeW\\x86O>\\'\\xc9n\\xbfs\\xfd\\xd3;\\xedP\\x07>\\xfa\\x99\\xa3>\\x8b\\xfd\\x91=\\x9c?\\xbf\\xbd\\x1ee\\x85\\xbeG\\x13\\xd2=\\x8bm\\x81\\xbf\\x8b\\x90v\\xbf\\x94\\x88\\x16\\xbf\\xee\\xb3\\x93\\xbe\\xa0\\xce\\x94>\\x04\\xc3->\\x96%\\xd4<t^\\x07\\xbfFS\\t>k\\x8a\\x7f=\\x1d\\xdbb? \\x14\\x91\\xbd\\xe3\\x97\\r\\xbf\\xe6\\x96\\x04\\xbf\\n\\xe1\\xa2=H\\xffF\\xbc\\x14@!\\xbf\\xb4 &\\xbd\\xd5z\\x0c\\xbf\\xe9\\xd2\\xd2>\\xc1\\xc7#\\xbe;\\xfd\\xab>\\x11K\\x02?\\x81\\xfc_\\xbd\\xb2\\x9az\\xbf8\\xa3\\xea\\xbdp\\x06d\\xbe?\\xbe\\xac=\\x16P\\x06?\\xb5zO\\xbe\\x1c[\\xad\\xbf\\x00\\xbe\\xc0\\xbe\\xdb^2>8W\\x96>;\\x00E?\\xe0\\x1e\\x14\\xbf\\xd33\\xc9\\xbe\\x03V\\x98>6K%\\xbd\\x1d\\xdc\\x96\\xbd\\xc8\\x1a\\xb6\\xbe}\\xea<>\\xa6\\x9f\\x19\\xbfM\\xbb\\xef\\xbdt\\xef\\x08>g\\xac.>-\\xe9\\x91\\xbey\\xd1\\xf2=\\xc0`<?\\x12U5\\xbf\\x8d[\\x8a\\xbe\\x98\\xd5\\t\\xbebm\\\\\\xbfq3/=X\\x95\\xce\\xbfI\\xd2\\x92>=\\xe4I\\xbf\\xec\\xb7?\\xbeJ:W?\\xa98\\xfe\\xbe.\\xc1\\xd6>e\\xb3\\n?!\\x0f\\xcd\\xbe\\x1e\\x9a\\x1f\\xbe\\x92]\\xe7\\xbdn+\\xab\\xbe\\xff\\xd0\\xdf\\xbeJ\\x95\\xa3\\xbd\\x96\\xe6\\x1c\\xbe$\\x8d\\x98=f\\xdb\\x14>7\\x0cm>\\xed/\\x95=:\\xcc\\xcb=qn\\xe9>\\xa7H\\xfd\\xbd\\xda\\x7f\\xae\\xbe4\\xe8\\xf5<\\x7fn\\x94\\xbe\\xb6n\\xd7>\\xac\\xbd]\\xbf\\xcc\\xf1\"\\xbf\\xea`\\x8e\\xbf\\xd4C?<q\\xfe\\n>1\\xf2c>\\xfdB\\xbc\\xbe\\xa0W\"\\xbdO\\xec\\xac\\xbe\\x82\\x88B\\xbdl\\xe9\\xce=`r\\xe2\\xbe|\\x18\\x89>Y\\xec\\x8f\\xbf\\x08\\xdb\\x1a\\xbedM4\\xbe9\\x1b\\xe3:+8\\xa4\\xbe e\\xf7=\\xb4\\xae=\\xbe\\x87\\xc4\\xe7\\xbe\\xcb8\\x84\\xbe;\\xf7P\\xbeu)\\n?\\x8fs\\x07\\xbf\\x05\\xcd\\xf6\\xbe\\x1aM\\xb0=\\xa0c\\xe6\\xbe\\n\\xda\\xf1>\\x13r\\x98>\\xa2It\\xbfa\\x89Z>F\\xdf\\xe0=\\xae\\xfb#\\xbe~>\\x8c>\\xecW\\x87\\xbe\\xb1\\x18\\x8e\\xbe\\x9b\\x11\\xf2\\xbej\\xc2w>\\xe3\\xcf\\xb3\\xbeP\\x95\\x0b\\xbf\\x03}B?C\\x12\\x85\\xbeh\\x9b\\x9b\\xbeX\\x9d\\xd4=If\\x97\\xbe\\xdd\\'\\n?\\xee\\xe9\\xff<\\\\\\xcdO\\xbfr\\xde\\x8d\\xbem\\xc5C=:M\\x1a>6O\\x83>4\\xa9\\x9a\\xbcq\\xd7;\\xbe\\xee\\xe3\\xa1=\\x10\\xf9~\\xbf\\xdfa\\xe7\\xbd#O\\xfc\\xbd5\\x8b.\\xbe=Q\\xc4\\xbe\\xe6R\\xc5\\xbe\\x8f\\xae\\xb9\\xbd\\x8d\\xfd4\\xbf;n=?\\xf2o\\x00\\xbff\\x1d\\xa2=\\xcf\\xca\\x88=\\x08\\x06\\xd0\\xbe\\xfd\\x8c\\x9b\\xbe\\xaa\\xd1o\\xbe\\xf4\\xfa2\\xbd\\xb8/%?\\xd0\\xe4\\xd2\\xben\\x8e\\x1e?\\x93\\xef<\\xbe5f\\x8c=n\\x04\\x94>+\\xdf-?\\x07\\xed\\xbc\\xbe\\xec\\xcfx>\\x15\\x91\\x02?\\xd1*\\xe0\\xbe\\xdf,\\x05>\\x02\\x8fG\\xbd\"u+\\xbf\\xdf*\\xad\\xbd\\x9a\\x02y>6\\xe4Y>\\x0f]2\\xbd\\xca!\\x98>\\xb2\\xd6\\x15<Iw\\xa7<\\xd2b\\x11?}n\\x87\\xbf{\\x1e\\xc4\\xbc\\xd4\\x18\\xd4\\xbd*\\xce\\xb1>\\x936\\x13\\xbf\\xb6$`\\xbe\\x01^\\x99>\\x94\\xac\\xc4\\xbc\\x97\\x1f\\x97\\xbf^\\x90\\x16>!\\tc?\\xe7D \\xbf$m\\x02?(t\\x12\\xbfk\\'\\x0e\\xbf\\x8a\\xab,?\\x10\\xba\\xb7>\\xcf\\x0c\\x83<\\xe22\\x82>W\\x126?\\xc4/\\x9c\\xbe\\x19\\x81+>\\xd7z\\xd7<6n\\xab\\xbe\\xf7\\x14\\x8b>\\xef(,>N\\x0e?>\\xfa\\x8c\\n\\xbfoDc\\xbfs\\xa1\\x9f>W\\x89\\xa4\\xbc\\x01\\x85%>\\xcfcm>\\xf2(\\xba=k)\\xa6>\\xa7\\xe8\\x0b?\\xdf\\x1d\\xd7\\xbef\\\\\\xb4>\\x9dX\\x83>B\\xb7\\x0f\\xbf\\x10&\\x90\\xbe\\x8d\\x0fY\\xbf\\x8f\\x10\\x10?\\x1af,=\\x99\\xb0\\xc9>~{\\xe9=\\xeb\\x13c\\xbfGCF\\xbf\\xf7\\xb8\\xc4>\\x03\\xc6z\\xbe\\x02@0\\xbf\\x04h\\x89\\xbegG8?s\\xe1\\xa0=\\x8e\\xd3y<mPE>\\xdc\\xbf\\x03\\xbfJ\\xcfU\\xbeW\\xf5\\xfb>\\xc8\\x89\\xe2\\xbdQ\\xbcA?\\xa28\\x8f\\xbd\\xcc*\\xfe\\xbd0 \\x06<\\xf6\\xc3$\\xbf\\xbb\\xc1s\\xbe\\xf1\\x9a5>\\xc8\\x9e]=\\x97\\x8c\\xd8=mT\\x94\\xbe\\xe5t\\xd4\\xbe\\xcb\\xb3\\x1f\\xbexL\\xd9>\\x8eq]\\xbe\\xeb-\\x1d>\\xa1\\x8a.\\xbf\\x02\\x0b\\x02=\\xd3\\x94\\xbd>\\x07\\xf76=J{$>\\x8c[\\x06\\xbe&\\x0c\\x82>\\xc6\\xfd]\\xbf\\xef\\xcb\\x93=\\x01k\\x1b\\xbfB\\xf1\\xb0<\\xa9\\x15V>cT\\xbd>*\\x8b\\xbe\\xbf\\xee\\xb2\\xf8\\xbc\\x9dA\\x80>X}\\x98\\xbfo\\xb8I\\xbe\\x12(\\x81>]8\\x12\\xbf\\x86%\\xcc>\\xaf\\x06\\xaa\\xbfZ\\x95\\x8e\\xbe\\x1d\\xc1\\xe4\\xbe\\xff4\\n\\xbfG\\x14\\x9a\\xbe3\\xe6\\x1f\\xbd\\xff\\xe6P\\xbe0q\\xa6>Vj,\\xbf\\xa7F\\xaf\\xbe\\xd5\\x94B?0kw\\xbe\\x10\\xb5;?\\x01pv=(\\x9d/\\xbf(C\\xe6>\\x9b\\x02\\xc1\\xbe\\xd2\\x19\\xb8\\xbcr,[\\xbf\\x1c\\xa4|>c\\xd5\\x16\\xbf!\\xe7\\x9b\\xbe\\x0f\\xdf\\xe0>X\\x97\\x96\\xbcBJK\\xbf8\\xdd\\xed\\xbd\\xbaM\\xa1>\\xef\\x82\\x1b\\xbf\\xc5\\xf6\\xc2\\xbe=f\\x18>\\xd5$Y;\\x0e\\xf3\\x9f>N\\xb6\\\\\\xbeV\\xf2\\xe3>v)[\\xbe\\rR\\x9b>d\\x1c\\n\\xbfb\\xd3X>\\xe5U\\xa7\\xbd\\xc1\\xca\\xa6>E_\\x1c?5\\xa7\\x8e\\xbd\\x9ev\\xed\\xbd\\xf7\\x13<?B-\\x82\\xbf^\\xa3\\x0c>\\x19Y\\xc3>\\x9a\\x97)\\xbe\\xd3\\xb9\\xc0>\\x90\\xa8\\xcb>\\x138\\x9c\\xbe\\xd0$\\x1f>\\x91<)\\xbf\\xe1\\x89\\xcb=\\xbaT\\xfd:T\\xee\\x94=\\xd6F;?n;\\x8d\\xbe\\x82\\xfe\\x1d?\\xe1y\\xb5;\\xf0\\x00t\\xbeE\\x19\\xdc=\\xaa\\xb1O>\\n\\xc2z\\xbf\\xccHW\\xbel\\xce\\x9a\\xbd\\'\\xafZ\\xbf\\x91\\xb1\\\\\\xbf_\\x06\\x14\\xbfwV\\xce\\xbdc\\xe92>C\\x96\\x15>\\xfd\\xfa9>v\\n\\x81=I\\xaf\\xcb>{i\\xce>\\xdb\\xc5\\x1f\\xbe\\x9dxg\\xbf@\\x1f\\x00\\xba\\xde\\x8e{\\xbe\\xc6!\\x89?\\xfb>\\x00\\xbe\\x1f\\xc9v?ic\\x18\\xbe\\x02\\xca\\xad\\xbez\\xabp>\\x82\\x8a\\x81>wA\\x08\\xbfJ\\xc7\\xe2=\\xe5\\xb5\\xc1>\\xec}%\\xbfbuK>\\xf4\\x82&\\xbf:\\xfe\\xe1\\xbe\\x96\\x05\\x11?Q\\x8f0\\xbe\\xb4^,>\\xbf\\x00\\xed\\xbd\\x8eWp>\\xec\\xb1/?h\\xa6\\xd5\\xbe9\\xf6\\x83>\\xeb\\xc0\\x11>@f\\xed\\xbe\\xda\\x17\\x12\\xbf\\xb8}\\xc9\\xbd\\xff\\x00\\x00\\xbf\\xae\\x10\\x0c\\xbel\\x8bo>\\x12\\x12S\\xbc^\\xd9\\r\\xbd\\xb4\\x8a\\xc9\\xbe\\xe1\\x91\\x16\\xbe\\xe6\\xfb\\xbc\\xbe\\xa6Q.?\\x01\\x12T\\xbf\\x82\\xf1\\xc8;\\x1cr1\\xbe\\xd6\\xac\\xd2\\xbe\\xc1cT>\\xd3\\xf8\\xba\\xbe\\xe0\\x9d-\\xbeq `>\\x99\\nI=\\x97\\xc2a>\\x9a\\xd5\\xb3\\xbe\\xfaS\\x8c\\xbc\\x0e%\\x95>\\x1b\\xac*?$\\xd9\\xbd\\xbe\\xe6\\xc2\\xdb\\xbe\\xc1\\xc8\\xa1<\\xe3#\\xed\\xbeE1\\xaa\\xbem\\x0f\\xf9\\xbc\\xa9\\xb5j\\xbe]\\xb3\\xb4\\xbe`\\x13\\x07<:\\xc3(?zo\\xe4\\xbf\\x02\\xd1\\xf6>\\xe1\\xa1P>mW\\x16=\\xe1\\xcd\\xfd=]\\xa9\\x14\\xbf\\x1f\\xb6^\\xbe\\xb8\\x88&?*|\\xa2>\\xc76\\xb6\\xberh\\x08\\xbfB]\\xc0=\\x98\\x16\\xa0\\xbe\\xea\\x16\\x05?\\xa3\\x93\\xbf\\xbe7T(>\\xcf\\xdb\\xc9\\xbd\\xb2\\x15\\x93>\\xe4\\xf8[<\\xfd]\\x04\\xbfDu\\xe1\\xbe\\xe5\\xa3\\xf1\\xbe5t/>F\\x8c~\\xbe[\\xddi\\xbf\\x10\\xc5q>\\xbaG\\xb7=\\xb3\\xf1A=?\\xfc\\x1c\\xbd\\xfc\\x98\\xdb\\xbe\\xe1\\xd5\\xef\\xbcq`\\x9c> 5*>hm\\'\\xbf\\xfcb\\t>$\\x89;\\xbd(I\\x01\\xbfD!\\xaf\\xbd\\x1e\\x8em=\\xda\\xc8\\xf2=-\\xb7\\x96\\xbeV\\x1a\\xa3>/a\\xf0=4w\\t\\xbf\\x96\\x17\\xd6>g*\\xda>\\x06LM>e\\xd7\\x98\\xbfK\\x0f\\xba\\xbe\\xbe\\xe2\\xfd\\xbe\\xa1\\xd3\\xaf>\\x16\\x82\\xf3>\\xb0E\\xce>(\\xa68\\xbd\\xbb\\x03\\'\\xbei\\x8fM\\xbe{\\x01T>\\x00V0\\xbf\\x93*\\x03>\\xe7G)\\xbe+\\x90\\x91\\xbe\\xb4\\xdcC\\xbfe\\x97\\xdf>/\\xc6~\\xbf\\xf0\\x88\\xa7\\xbe\\x15\\xbd\\xca\\xbe\\x8f\\xc0V<\\x0c\\xd9\\x92>eS\\xf9>\\xa3_\\r>T\\x95\\xae\\xbe@z\\xe16s\\xd8 ?\\x81-k\\xbc?\\x03o=\\x17\\xc7n\\xbc\\x1f\\x04n\\xbe\\x84\\x99\\xdc>\\xc2`j>\\x93\\xbc\\xbe<m)\\x07\\xbe\\x0e\\xfc\\xb2\\xbf\\x10\\xb7}\\xbeq\\x9d\\x85\\xbd\\x82E?\\xbe\\xb6\\xb5\\xb2>\\xde\\xbc\\xa5>/\\xc9\\xc6=l\\x9f\\x90\\xbe\\x83E%\\xbf\\xfe\\xfd\\x15\\xbe\\xcdu\\xaf=P\\x83^=o\\xbb\\xe8\\xbee9\\xa5\\xbd\\xd6\\xac\\x11?\\xeb\\xa0\\x04?|\\x1f\\xda>\\x94\\xbb*\\xbea\\xb6\\xa4=\\xa5o\\xd9\\xbdTl\\x01\\xbf\\xea\\xc6\\x90=\\x0e\\xf7\\x93=cz\\x15\\xbf)7Z\\xbd\\x98k\\xe3\\xbe\\xf2\\xc5\\xe9=\\xf0\\x08\\xe7>A\\xed\\x95=\\xae;\\xd0>\\xb3\\x9e\\xe4\\xbe\\xd6-\\xf8>r\\x8a/\\xbf\\x04\\xf5\\x97\\xbdn\\xd5B>(\\x95\\xae>\\x9a\\xa5T\\xbey\\x88v\\xbc\\xbeiw>\\x9cx\\x17\\xbf\\xda9~>c\\xc79>^\\xac\\xc9\\xbe\\x82\\x0b\\xbc\\xbe\\x1dc\\x8a\\xbe+\\xc9\\x8c\\xbe\\xbe;\\x16\\xbf\\x11{\\x06?\\xcb2\\xcf\\xbeJ\\x92!\\xbf\\xaf\\xdb\\xfd=d@\\x00\\xbfC\\xb2u?\\x80\\xc2\\t\\xbf\\xc7\\xac\\x08?9\\xf2w=1#\\xac=\\xd4t\\xd2=e\\xf6\\xa9=\\x8f\\xd3\\x9c\\xbf\\xd5WY=L\\x18 \\xbe\\xb8\\xf9C\\xbfm\\xc9p\\xbde,\\xb1<\\xba\\xe4\\x83>\\xd8\\t\\xdb\\xbc\\xb2\\xccu=T\\xa4\\xbc\\xbe\\xb1\\xb0\\xcc\\xbeqx\\x10>\\'\\x9b\\x9a=\\xb67\\xf3\\xbd\\x9a\\x93\\x97>\\xb4\\xb1,\\xbe\\xd7w\\x18>V}\\x07\\xbf\\x19N\\x84>|I\"\\xbfe\\x1a\\xca>\\xfe\\x9bT=\\xcc\\xc2\\xbd:\\xda\\xa9t>:\\xe5B\\xbe\\xb1X^>\\xa8\\xaa,>\\xa3\\x0b\\xa8>\\x8b#\\x19\\xbf\\xc6\\xc9\\xe2\\xbeM:\\x13?y-V\\xbe\\x9dE\\xbd=H\\x1d\\xf9\\xbe\\x08]\\xb8>0t\\x87\\xbf\\xcb\"\\r<a\\x1d\\x80\\xbf\\xb6\\xa7\\x01=\\xd7\\xb6\\x0b=(\\x9b\\xd2<\\xb9M\\xdc>\\xb9\\xd8R\\xbe8;1?\\xa8<\\x01>\\xd2\\xf2\\xd4=\\xa3v\\xe9>\\x19\\xb6R>\\xce\\t\\xff\\xbe~\\n\\xb3\\xbc\\xb2\\xf2T\\xbe3w1\\xbf\\xc8n\\x9e=\\x13\\x9f\\x0b?\\xbc\\x96\\xb1\\xbd\\xe54\\xc4>\\xb1}k\\xbd8\\xbe3\\xbd*\\xf4l\\xbd\\xaf\\xf2\\xaf\\xbe\\xec\\x8c;\\xbc\\xda\\xee\\x8a\\xbf\\xc5\\x856?C\\xe9\\xda\\xbd\\xa9+\\xb0\\xbe\\x8f\\x9bj\\xbf\\xd4C=>|\\xae\\xa3\\xbf\\x01\\xb3>>`\\x07_<a\\xc9\\xa3\\xbd\\xe0\\xbe\\x81>\\xa8\\xf8\\x82\\xbd\\x7fqT>9\\xc4\\x1b<k\\xfd\\n\\xbf\\xed\\xec\\xd4\\xbb|_\\xfe\\xbd\\xf7T\\xd3\\xbd\\r\\xacu;p7|\\xbck\\xc8\\xfc\\xbe\\xdd\\xe2q\\xbd\\xf9\\x97\\xb9\\xbc\\x80W\\xdc\\xbda\\xe0\\x82\\xbe\\xe8\\r\\x1d>#u\\x13<\\xbb\\xe1\\xa2>r\\x95\\x7f\\xbf\\x87!\\xd5>\\xae\\xe4h\\xbf\\x8f\\rR\\xbe\\x13\\xa6\\x97\\xbe\\xa5$J=\\x8f=1>\\xdb\\x012>\\xa0\\x85\\xb9>\\xcf\\xc0\\xb3=\\xde\\xf5:\\xbf\\xd5?A>z\\xcc\\x1a\\xbf0L\\xe9=Q3\\x96=\\xae)U\\xbe\\xa0\\\\\\x0f?H\\x94\\x98>\\xf2=P\\xbe[\\x05\\x15?\\xc1\\x0e~\\xbf\\x91o\\xe4=\\r\\x9e\\xcb=\\x16 a>\\x92|[>6\\xdf2\\xbe\\xefiW\\xbe\\xc2b\\x17=Mp\\xb0\\xbfq\\x16\\x04?\\x86R\\xe4>\\xc6\\xa1\\xfc\\xbd\\xf9\\xd0M\\xbeh\\xd7\\xd8\\xbe4\\xe4\\xbb>\\xea*^>\\xd4\\xfd\\x8a>x]\\xa4\\xbe\\x03;J\\xbf\\\\\\x0b\\x9f\\xbe\\xb1\\x14O>\\xa2k\\xfa\\xbe\\xbc6\\xcf>s\\xcc\\x88\\xbe\\xd0\\xe6\\xa6>\\x15\\x12\\x97;\\xb9\\xa1#\\xbf\\x99\\x0b\\xe2\\xbd\\xf0\\x82$=8\\x17\\xf6\\xbe\\xe9\\xd52=\\xb4\\xdd+=\\x83\\xb1B<K\\xea3>\\xff\\x92\\x9f\\xbe\\x9d\\x16W=\\x8a\\xfe\\xff\\xff\\x04\\x00\\x00\\x00\\x08\\x00\\x00\\x00\\xff\\xff\\xff\\xffH\\x00\\x00\\x00\\x9e\\xfe\\xff\\xff\\x04\\x00\\x00\\x00(\\x00\\x00\\x00\\xb0\\x86\\xc4\\xbc\\xbe/s<\\xfd\\x03\\x9c\\xbc\\xf3M\\xa4=D\\x90\\xa3\\xbbX\\xb7g\\xbd\\xeb\\xcf\\x00<\\x8a%\\x94\\xbd\\xc96==\\x14\\xd8\\x8e<\\xd2\\xfe\\xff\\xff\\x04\\x00\\x00\\x00 \\x01\\x00\\x00\"?P?\\x8e\\xf6\\x8b?\\x86\\xdf\\x98?\\x16\\xcep\\xbe\\xd7$I\\xbf`\\xa5\\x9e>\\x1a4N\\xbf\\x7f\\xa5{\\xbf\\xb1g\\xdc\\xben\\xe8\\x86>\\xcb\\x19.?\\x06#1?Qs<>\\xa1,\\x7f?w=u?\\x8d\\x95\\xc5>M\\x99\\t?*\\xf0$?\\xfbxR?>>J=\\x94\\x83#\\xbej\\xbe\\x87\\xbfy@\\xc6\\xbfE\\x14O\\xbf\\x05\\xa7\\xac>\\\\2\\xcf>\\xfb\\xa6<?\\x94|1?\\x14\\xb2\\xb0\\xbe\\xf3\\x17s>\\x1b\\x1c\\x00?\\xe0\\xc7\\x1b?\\x05\\xab=?\\xb8\\xa8\\x10\\xbe\\xbf\\\\c\\xbf\\xd7\\xaax\\xbf\\x8e\\x9e\\x03\\xbf\\x00\\x1c\\x9c\\xbfL\\xed.\\xbf\\x9do\\xab\\xbe\\\\%\\\\\\xbf8`$?h\\x04\\xf3>G\\xba\\x02\\xbd.\\x03\\n?-E\\x0f>\\x00\\xc3@?\\xde\\xd1\\x99\\xbe\\x84\\x9ek\\xbe%\\x8e\\x06\\xbf\\xaaE\\x1e?\\xf7\\n\\xed=\\xcd\\xe2\\x0f\\xbf\\xd2;\\x16?\\xdeV\\x8a>\\xc3\\xfa\\x9d?\\xb6P\\xc6>#\\x9f\\x82>r2\\x87?Z#\\x01>\\x85\\xac\\x04>/m\\xfc<X\\x16b\\xbd>?\\x17\\xbf\\xe0j\\x89\\xbe\\xbd3b?\\xc5\\x97\\x81\\xbdC\\x98*?\\xd8\\x9a|?\\xe57\\xa5>\\xeda\\x86?>aS?\\x00\\x00\\x06\\x00\\x08\\x00\\x04\\x00\\x06\\x00\\x00\\x00\\x04\\x00\\x00\\x00 \\x00\\x00\\x00Fp\\x17?\\xa7i\\x80\\xbd\\x171\\xff>\\xcb\\xd1\\x84>\\xf0\\x0e:?\\r\\xf2\\xac=)H~\\xbc/\\xbe\\x0c>`\\xfa\\xff\\xffd\\xfa\\xff\\xff\\x0f\\x00\\x00\\x00MLIR Converted.\\x00\\x01\\x00\\x00\\x00\\x14\\x00\\x00\\x00\\x00\\x00\\x0e\\x00\\x18\\x00\\x14\\x00\\x10\\x00\\x0c\\x00\\x08\\x00\\x04\\x00\\x0e\\x00\\x00\\x00\\x14\\x00\\x00\\x00\\x1c\\x00\\x00\\x00L\\x01\\x00\\x00P\\x01\\x00\\x00T\\x01\\x00\\x00\\x04\\x00\\x00\\x00main\\x00\\x00\\x00\\x00\\x04\\x00\\x00\\x00\\xe4\\x00\\x00\\x00\\x80\\x00\\x00\\x00H\\x00\\x00\\x00\\x04\\x00\\x00\\x00\\x9a\\xff\\xff\\xff\\x14\\x00\\x00\\x00\\x00\\x00\\x00\\x08\\x10\\x00\\x00\\x00\\x14\\x00\\x00\\x00\\x03\\x00\\x00\\x00\\xe4\\xfa\\xff\\xff\\x01\\x00\\x00\\x00\\t\\x00\\x00\\x00\\x03\\x00\\x00\\x00\\x08\\x00\\x00\\x00\\x05\\x00\\x00\\x00\\x03\\x00\\x00\\x00\\x00\\x00\\n\\x00\\x10\\x00\\x0c\\x00\\x08\\x00\\x04\\x00\\n\\x00\\x00\\x00\\x0c\\x00\\x00\\x00\\x10\\x00\\x00\\x00\\x02\\x00\\x00\\x00\\x01\\x00\\x00\\x00\\x08\\x00\\x00\\x00\\x02\\x00\\x00\\x00\\x07\\x00\\x00\\x00\\x04\\x00\\x00\\x00\\x00\\x00\\x0e\\x00\\x1a\\x00\\x14\\x00\\x10\\x00\\x0c\\x00\\x0b\\x00\\x04\\x00\\x0e\\x00\\x00\\x00$\\x00\\x00\\x00\\x00\\x00\\x00\\x054\\x00\\x00\\x008\\x00\\x00\\x00\\x01\\x00\\x00\\x00\\x00\\x00\\x0e\\x00\\x18\\x00\\x17\\x00\\x10\\x00\\x0c\\x00\\x08\\x00\\x04\\x00\\x0e\\x00\\x00\\x00\\x02\\x00\\x00\\x00\\x02\\x00\\x00\\x00\\x02\\x00\\x00\\x00\\x02\\x00\\x00\\x00\\x00\\x00\\x00\\x01\\x01\\x00\\x00\\x00\\x07\\x00\\x00\\x00\\x01\\x00\\x00\\x00\\x06\\x00\\x00\\x00\\x00\\x00\\x0e\\x00\\x14\\x00\\x00\\x00\\x10\\x00\\x0c\\x00\\x0b\\x00\\x04\\x00\\x0e\\x00\\x00\\x00\\x1c\\x00\\x00\\x00\\x00\\x00\\x00\\x01(\\x00\\x00\\x00,\\x00\\x00\\x00\\x0c\\x00\\x14\\x00\\x13\\x00\\x0c\\x00\\x08\\x00\\x07\\x00\\x0c\\x00\\x00\\x00\\x00\\x00\\x00\\x01\\x01\\x00\\x00\\x00\\x01\\x00\\x00\\x00\\x00\\x00\\x00\\x01\\x01\\x00\\x00\\x00\\x06\\x00\\x00\\x00\\x03\\x00\\x00\\x00\\x00\\x00\\x00\\x00\\x02\\x00\\x00\\x00\\x01\\x00\\x00\\x00\\x01\\x00\\x00\\x00\\t\\x00\\x00\\x00\\x01\\x00\\x00\\x00\\x00\\x00\\x00\\x00\\n\\x00\\x00\\x00\\xd0\\x03\\x00\\x00`\\x03\\x00\\x00\\xf4\\x02\\x00\\x00\\xa0\\x02\\x00\\x00T\\x02\\x00\\x00\\xf4\\x01\\x00\\x000\\x01\\x00\\x00\\xbc\\x00\\x00\\x00`\\x00\\x00\\x00\\x04\\x00\\x00\\x00n\\xfc\\xff\\xff\\x00\\x00\\x00\\x01\\x14\\x00\\x00\\x00\\x1c\\x00\\x00\\x00\\x1c\\x00\\x00\\x00\\n\\x00\\x00\\x004\\x00\\x00\\x00\\x02\\x00\\x00\\x00\\xff\\xff\\xff\\xff\\n\\x00\\x00\\x00P\\xfc\\xff\\xff\\x19\\x00\\x00\\x00StatefulPartitionedCall:0\\x00\\x00\\x00\\x02\\x00\\x00\\x00\\x01\\x00\\x00\\x00\\n\\x00\\x00\\x00\\xc6\\xfc\\xff\\xff\\x00\\x00\\x00\\x01\\x14\\x00\\x00\\x00\\x1c\\x00\\x00\\x00\\x1c\\x00\\x00\\x00\\t\\x00\\x00\\x004\\x00\\x00\\x00\\x02\\x00\\x00\\x00\\xff\\xff\\xff\\xffH\\x00\\x00\\x00\\xa8\\xfc\\xff\\xff\\x1a\\x00\\x00\\x00sequential/flatten/Reshape\\x00\\x00\\x02\\x00\\x00\\x00\\x01\\x00\\x00\\x00H\\x00\\x00\\x00\\x1e\\xfd\\xff\\xff\\x00\\x00\\x00\\x01\\x14\\x00\\x00\\x00$\\x00\\x00\\x00$\\x00\\x00\\x00\\x08\\x00\\x00\\x00D\\x00\\x00\\x00\\x04\\x00\\x00\\x00\\xff\\xff\\xff\\xff\\x03\\x00\\x00\\x00\\x03\\x00\\x00\\x00\\x08\\x00\\x00\\x00\\x08\\xfd\\xff\\xff \\x00\\x00\\x00sequential/max_pooling2d/MaxPool\\x00\\x00\\x00\\x00\\x04\\x00\\x00\\x00\\x01\\x00\\x00\\x00\\x03\\x00\\x00\\x00\\x03\\x00\\x00\\x00\\x08\\x00\\x00\\x00\\x8e\\xfd\\xff\\xff\\x00\\x00\\x00\\x01\\x14\\x00\\x00\\x00$\\x00\\x00\\x00$\\x00\\x00\\x00\\x07\\x00\\x00\\x00\\x94\\x00\\x00\\x00\\x04\\x00\\x00\\x00\\xff\\xff\\xff\\xff\\x06\\x00\\x00\\x00\\x06\\x00\\x00\\x00\\x08\\x00\\x00\\x00x\\xfd\\xff\\xffr\\x00\\x00\\x00sequential/conv2d/Relu;sequential/conv2d/BiasAdd;sequential/conv2d/Conv2D;sequential/conv2d/BiasAdd/ReadVariableOp\\x00\\x00\\x04\\x00\\x00\\x00\\x01\\x00\\x00\\x00\\x06\\x00\\x00\\x00\\x06\\x00\\x00\\x00\\x08\\x00\\x00\\x00\\xba\\xfe\\xff\\xff\\x00\\x00\\x00\\x01\\x10\\x00\\x00\\x00\\x10\\x00\\x00\\x00\\x06\\x00\\x00\\x00$\\x00\\x00\\x00 \\xfe\\xff\\xff\\x17\\x00\\x00\\x00sequential/dense/MatMul\\x00\\x02\\x00\\x00\\x00\\n\\x00\\x00\\x00H\\x00\\x00\\x00\\x00\\x00\\x16\\x00\\x1c\\x00\\x18\\x00\\x17\\x00\\x10\\x00\\x0c\\x00\\x08\\x00\\x00\\x00\\x00\\x00\\x00\\x00\\x07\\x00\\x16\\x00\\x00\\x00\\x00\\x00\\x00\\x01\\x14\\x00\\x00\\x00\\x14\\x00\\x00\\x00\\x05\\x00\\x00\\x00\\x00\\x00\\x00\\x02(\\x00\\x00\\x00\\x80\\xfe\\xff\\xff\\x18\\x00\\x00\\x00sequential/flatten/Const\\x00\\x00\\x00\\x00\\x01\\x00\\x00\\x00\\x02\\x00\\x00\\x00^\\xff\\xff\\xff\\x00\\x00\\x00\\x01\\x10\\x00\\x00\\x00\\x10\\x00\\x00\\x00\\x04\\x00\\x00\\x004\\x00\\x00\\x00\\xc4\\xfe\\xff\\xff\\'\\x00\\x00\\x00sequential/dense/BiasAdd/ReadVariableOp\\x00\\x01\\x00\\x00\\x00\\n\\x00\\x00\\x00\\xae\\xff\\xff\\xff\\x00\\x00\\x00\\x01\\x10\\x00\\x00\\x00\\x10\\x00\\x00\\x00\\x03\\x00\\x00\\x00(\\x00\\x00\\x00\\x14\\xff\\xff\\xff\\x18\\x00\\x00\\x00sequential/conv2d/Conv2D\\x00\\x00\\x00\\x00\\x04\\x00\\x00\\x00\\x08\\x00\\x00\\x00\\x03\\x00\\x00\\x00\\x03\\x00\\x00\\x00\\x01\\x00\\x00\\x00\\x00\\x00\\x16\\x00\\x18\\x00\\x14\\x00\\x00\\x00\\x10\\x00\\x0c\\x00\\x08\\x00\\x00\\x00\\x00\\x00\\x00\\x00\\x07\\x00\\x16\\x00\\x00\\x00\\x00\\x00\\x00\\x01\\x10\\x00\\x00\\x00\\x10\\x00\\x00\\x00\\x02\\x00\\x00\\x008\\x00\\x00\\x00|\\xff\\xff\\xff(\\x00\\x00\\x00sequential/conv2d/BiasAdd/ReadVariableOp\\x00\\x00\\x00\\x00\\x01\\x00\\x00\\x00\\x08\\x00\\x00\\x00\\x00\\x00\\x16\\x00\\x1c\\x00\\x18\\x00\\x00\\x00\\x14\\x00\\x10\\x00\\x0c\\x00\\x00\\x00\\x00\\x00\\x08\\x00\\x07\\x00\\x16\\x00\\x00\\x00\\x00\\x00\\x00\\x01\\x14\\x00\\x00\\x00(\\x00\\x00\\x00(\\x00\\x00\\x00\\x01\\x00\\x00\\x00D\\x00\\x00\\x00\\x04\\x00\\x00\\x00\\xff\\xff\\xff\\xff\\x08\\x00\\x00\\x00\\x08\\x00\\x00\\x00\\x01\\x00\\x00\\x00\\x04\\x00\\x04\\x00\\x04\\x00\\x00\\x00\\x1e\\x00\\x00\\x00serving_default_conv2d_input:0\\x00\\x00\\x04\\x00\\x00\\x00\\x01\\x00\\x00\\x00\\x08\\x00\\x00\\x00\\x08\\x00\\x00\\x00\\x01\\x00\\x00\\x00\\x04\\x00\\x00\\x00@\\x00\\x00\\x00$\\x00\\x00\\x00\\x14\\x00\\x00\\x00\\x04\\x00\\x00\\x00\\xdc\\xff\\xff\\xff\\t\\x00\\x00\\x00\\x00\\x00\\x00\\t\\xe8\\xff\\xff\\xff\\x16\\x00\\x00\\x00\\x00\\x00\\x00\\x16\\xf4\\xff\\xff\\xff\\x11\\x00\\x00\\x00\\x00\\x00\\x00\\x11\\x0c\\x00\\x0c\\x00\\x0b\\x00\\x00\\x00\\x00\\x00\\x04\\x00\\x0c\\x00\\x00\\x00\\x03\\x00\\x00\\x00\\x00\\x00\\x00\\x03'\n",
            ".\\models\\model_quant_float32.tflite: 5360 Bytes\n",
            "INFO:tensorflow:Assets written to: C:\\Users\\Thommas\\AppData\\Local\\Temp\\tmph0t_fpco\\assets\n"
          ]
        },
        {
          "name": "stderr",
          "output_type": "stream",
          "text": [
            "INFO:tensorflow:Assets written to: C:\\Users\\Thommas\\AppData\\Local\\Temp\\tmph0t_fpco\\assets\n"
          ]
        },
        {
          "name": "stdout",
          "output_type": "stream",
          "text": [
            ".\\models\\model_quant_int8.tflite: 3800 Bytes\n"
          ]
        },
        {
          "name": "stderr",
          "output_type": "stream",
          "text": [
            "c:\\Python39\\lib\\site-packages\\tensorflow\\lite\\python\\convert.py:953: UserWarning: Statistics for quantized inputs were expected, but not specified; continuing anyway.\n",
            "  warnings.warn(\n"
          ]
        }
      ],
      "source": [
        "model_name='.\\models\\model'\n",
        "converter_quantization_model(model, model_name)"
      ]
    },
    {
      "cell_type": "markdown",
      "metadata": {},
      "source": [
        "## 10. Quantized Model Evaluation"
      ]
    },
    {
      "cell_type": "code",
      "execution_count": 20,
      "metadata": {},
      "outputs": [],
      "source": [
        "def evaluate_quantization(model_path, X_test, y_test, quantization_type):\n",
        "    interpreter = tf.lite.Interpreter(model_path=model_path)\n",
        "    interpreter.allocate_tensors()\n",
        "\n",
        "    # Avaliar o modelo quantizado\n",
        "    input_index = interpreter.get_input_details()[0]['index']\n",
        "    output_index = interpreter.get_output_details()[0]['index']\n",
        "    predictions = []\n",
        "    processing_times = []\n",
        "\n",
        "    X_test = np.array(X_test, dtype=np.float32)\n",
        "    \n",
        "    for X in X_test:\n",
        "        interpreter.set_tensor(input_index, [X])       \n",
        "        start_time = time.time()\n",
        "        interpreter.invoke()\n",
        "        end_time = time.time()\n",
        "        processing_time = end_time - start_time\n",
        "        processing_times.append(processing_time)\n",
        "        output = interpreter.get_tensor(output_index).argmax(axis=1)\n",
        "        predictions.append(output[0])\n",
        "\n",
        "    acc = accuracy_score(y_test, predictions)\n",
        "   \n",
        "    # Calcular a média e o desvio padrão das diferenças\n",
        "    result = { \"Accuracy (%): \":acc*100,\n",
        "                \"Process time (s): \": np.mean(processing_times)\n",
        "            }\n",
        "\n",
        "    return result"
      ]
    },
    {
      "cell_type": "code",
      "execution_count": 21,
      "metadata": {},
      "outputs": [],
      "source": [
        "model_name = '.\\models\\model'"
      ]
    },
    {
      "cell_type": "code",
      "execution_count": 22,
      "metadata": {},
      "outputs": [
        {
          "data": {
            "text/plain": [
              "{'Accuracy (%): ': 97.49303621169916,\n",
              " 'Process time (s): ': 5.571290975161582e-06}"
            ]
          },
          "execution_count": 22,
          "metadata": {},
          "output_type": "execute_result"
        }
      ],
      "source": [
        "eval_quant_float32 = evaluate_quantization(model_name + '_quant_float32.tflite', X_test, y_test, 'float32')\n",
        "eval_quant_float32\n"
      ]
    },
    {
      "cell_type": "code",
      "execution_count": 23,
      "metadata": {},
      "outputs": [
        {
          "data": {
            "text/plain": [
              "{'Accuracy (%): ': 97.21448467966573,\n",
              " 'Process time (s): ': 5.62375634493602e-06}"
            ]
          },
          "execution_count": 23,
          "metadata": {},
          "output_type": "execute_result"
        }
      ],
      "source": [
        "eval_quant_int8 = evaluate_quantization(model_name + '_quant_int8.tflite', X_test, y_test, 'int8')\n",
        "eval_quant_int8 "
      ]
    }
  ],
  "metadata": {
    "accelerator": "GPU",
    "colab": {
      "collapsed_sections": [],
      "provenance": []
    },
    "gpuClass": "standard",
    "kernelspec": {
      "display_name": "Python 3",
      "name": "python3"
    },
    "language_info": {
      "codemirror_mode": {
        "name": "ipython",
        "version": 3
      },
      "file_extension": ".py",
      "mimetype": "text/x-python",
      "name": "python",
      "nbconvert_exporter": "python",
      "pygments_lexer": "ipython3",
      "version": "3.9.6"
    }
  },
  "nbformat": 4,
  "nbformat_minor": 0
}
